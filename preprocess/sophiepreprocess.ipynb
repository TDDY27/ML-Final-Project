{
 "cells": [
  {
   "cell_type": "code",
   "execution_count": null,
   "metadata": {
    "vscode": {
     "languageId": "plaintext"
    }
   },
   "outputs": [],
   "source": [
    "# Drop rows with missing values in the specified columns\n",
    "\n",
    "\n",
    "#fill Nan\n",
    "numerical_columns = train_data.select_dtypes(include=['number']).columns  # Select only numeric columns\n",
    "train_data[numerical_columns] = train_data[numerical_columns].fillna(train_data[numerical_columns].mean())\n",
    "#fill train_data\n",
    "new_columns = pd.DataFrame({\n",
    "    'team_rest_diff': train_data['home_team_rest'] - train_data['away_team_rest'],\n",
    "    'pitcher_rest_diff': train_data['home_pitcher_rest'] - train_data['away_pitcher_rest'],\n",
    "    'batting_avg_diff': train_data['home_batting_batting_avg_10RA'] - train_data['away_batting_batting_avg_10RA'],\n",
    "    'pitching_ERA_diff': train_data['home_pitching_earned_run_avg_10RA'] - train_data['away_pitching_earned_run_avg_10RA'],\n",
    "    'onbase_perc' : train_data['home_batting_onbase_plus_slugging_10RA'] / train_data['away_batting_onbase_plus_slugging_10RA']\n",
    "})\n",
    "\n",
    "# Concatenate the new columns to the original DataFrame\n",
    "train_data = pd.concat([train_data, new_columns], axis=1)\n",
    "columns_to_drop = ['away_pitcher', 'home_pitcher', 'date','id', 'home_team_abbr','away_team_abbr','season','home_pitcher_rest','away_pitcher_rest','home_team_rest','away_team_rest','home_batting_batting_avg_10RA','away_batting_batting_avg_10RA','home_pitching_earned_run_avg_10RA','away_pitching_earned_run_avg_10RA','home_batting_onbase_plus_slugging_10RA','away_batting_onbase_plus_slugging_10RA']\n",
    "train_data.drop(columns=columns_to_drop, inplace=True)\n",
    "train_data['is_night_game'] = train_data['is_night_game'].apply(\n",
    "    lambda x: np.random.choice([True, False]) if pd.isnull(x) else x\n",
    ")\n",
    "\n",
    "# Example of splitting the dataset by winning and losing teams\n",
    "# Assuming 'home_team_win' is the column that indicates the outcome (1 = win, 0 = loss)\n",
    "winning_team_data = train_data[train_data['home_team_win'] == 1]\n",
    "losing_team_data = train_data[train_data['home_team_win'] == 0]\n",
    "numeric_columns = train_data.select_dtypes(include=['number']).columns\n",
    "# Loop through all columns and perform a t-test for each column\n",
    "count = 0\n",
    "add_colums=[]\n",
    "for column in numeric_columns:\n",
    "    if column != 'home_team_win':  # Skip the outcome column itself\n",
    "        # Perform t-test (assuming data is numeric)\n",
    "        t_stat, p_value = stats.ttest_ind(winning_team_data[column], losing_team_data[column], nan_policy='omit')\n",
    "        \n",
    "        # If p-value is less than 0.05, print the result\n",
    "        if p_value < 0.05:\n",
    "            # print(f\"Significant variable: {column} | p-value: {p_value}\")\n",
    "            add_colums.append(column)\n",
    "# One-hot encode 'home_team_season' and 'away_team_season'\n",
    "original_columns = train_data.columns.tolist()\n",
    "\n",
    "# One-hot encode 'home_team_season' and 'away_team_season'\n",
    "season_columns = ['home_team_season', 'away_team_season']\n",
    "train_data = pd.get_dummies(train_data, columns=season_columns, drop_first=True)\n",
    "\n",
    "# Save the new column names after one-hot encoding\n",
    "new_columns = train_data.columns.tolist()\n",
    "\n",
    "# Identify the newly added columns\n",
    "dummy_columns = [col for col in new_columns if col not in original_columns]\n",
    "\n",
    "# Add these to your `add_columns` list\n",
    "add_colums.extend(dummy_columns)\n",
    "\n",
    "# View the resulting columns\n",
    "print(train_data.columns)"
   ]
  }
 ],
 "metadata": {
  "language_info": {
   "name": "python"
  }
 },
 "nbformat": 4,
 "nbformat_minor": 2
}
