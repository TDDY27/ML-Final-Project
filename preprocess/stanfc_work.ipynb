{
 "cells": [
  {
   "cell_type": "code",
   "execution_count": 1,
   "metadata": {},
   "outputs": [],
   "source": [
    "from sklearn.ensemble import RandomForestClassifier\n",
    "from sklearn.model_selection import train_test_split\n",
    "from sklearn.metrics import accuracy_score\n",
    "import numpy as np\n",
    "import pandas as pd\n",
    "import random"
   ]
  },
  {
   "cell_type": "code",
   "execution_count": 3,
   "metadata": {},
   "outputs": [],
   "source": [
    "# Load dataset\n",
    "data = pd.read_csv('train_data.csv')\n",
    "\n",
    "\n",
    "data = data.fillna(0)\n",
    "data['is_night_game'] = data['is_night_game'].astype(int)\n",
    "data['home_team_win'] = data['home_team_win'].astype(int)\n",
    "\n",
    "\n",
    "for column in data.select_dtypes(include=[np.number]).columns:\n",
    "    # Fill NaN with the column mean\n",
    "    mean_values = 0\n",
    "    if column.startswith(\"home\") and (type(data[column]) == 'float64' or type(data[column]) == 'float32') :\n",
    "        mean_values = data.groupby('home_team_abbr')[column].transform('mean')\n",
    "    if column.startswith(\"away\") and (type(data[column]) == 'float64' or type(data[column]) == 'float32') :\n",
    "        mean_values = data.groupby('away_team_abbr')[column].transform('mean')\n",
    "    data[column].fillna(mean_values)"
   ]
  },
  {
   "cell_type": "code",
   "execution_count": null,
   "metadata": {},
   "outputs": [],
   "source": [
    "# Dictionary to track team performance\n",
    "team_performance = {team: {'games_played': 0, 'games_won': 0} for team in teams}\n",
    "\n",
    "# Iterate through the data for the 2023 season to update team performance\n",
    "for i, row in data.iterrows():\n",
    "    home_team = row['home_team_abbr']\n",
    "    away_team = row['away_team_abbr']\n",
    "    home_team_win = row['home_team_win']\n",
    "\n",
    "    # Update games played\n",
    "    team_performance[home_team]['games_played'] += 1\n",
    "    team_performance[away_team]['games_played'] += 1\n",
    "\n",
    "    # Update games won\n",
    "    if home_team_win == 1:\n",
    "        team_performance[home_team]['games_won'] += 1\n",
    "    else:\n",
    "        team_performance[away_team]['games_won'] += 1\n",
    "\n",
    "# Calculate winning rate for each team\n",
    "team_winning_rate = {\n",
    "    team: (performance['games_won'] / performance['games_played']) if performance['games_played'] > 0 else 0\n",
    "    for team, performance in team_performance.items()\n",
    "}\n",
    "\n",
    "# Print the winning rate for each team\n",
    "for team, winning_rate in team_winning_rate.items():\n",
    "    print(f\"Team: {team}, Winning Rate: {winning_rate:.2f}\")\n",
    "\n",
    "data['home_win_rate'] = 0.0\n",
    "data['away_win_rate'] = 0.0\n",
    "for i, row in data.iterrows():\n",
    "    home_team = row['home_team_abbr']\n",
    "    away_team = row['away_team_abbr']\n",
    "    data.loc[i, 'home_win_rate'] = team_winning_rate[home_team]\n",
    "    data.loc[i, 'away_win_rate'] = team_winning_rate[away_team]\n"
   ]
  },
  {
   "cell_type": "code",
   "execution_count": 8,
   "metadata": {},
   "outputs": [
    {
     "name": "stdout",
     "output_type": "stream",
     "text": [
      "0        1.000000\n",
      "1        0.333333\n",
      "2        1.000000\n",
      "3        0.500000\n",
      "4        0.500000\n",
      "           ...   \n",
      "11062    1.000000\n",
      "11063    0.333333\n",
      "11064    0.666667\n",
      "11065    0.142857\n",
      "11066    0.666667\n",
      "Name: home_team_win_rate, Length: 11067, dtype: float64\n"
     ]
    }
   ],
   "source": [
    "'''data['matchup'] = data.apply(\n",
    "    lambda row: f\"{min(row['away_team'], row['home_team'])} vs {max(row['away_team'], row['home_team'])}\", axis=1\n",
    ")'''\n",
    "\n",
    "# Step 2: Calculate home team's win rate against away team\n",
    "# Group by 'home_team' and 'away_team' to calculate total games and wins\n",
    "matchup_stats = (\n",
    "    data.groupby(['home_team_abbr', 'away_team_abbr', 'season'])\n",
    "    .agg(total_games=('home_team_win', 'size'), total_home_wins=('home_team_win', 'sum'))\n",
    "    .reset_index()\n",
    ")\n",
    "\n",
    "# Add the win rate column\n",
    "matchup_stats['home_team_win_rate'] = matchup_stats['total_home_wins'] / matchup_stats['total_games']\n",
    "\n",
    "# Step 3: Merge win rate back into the original DataFrame\n",
    "data = data.merge(\n",
    "    matchup_stats[['home_team_abbr', 'away_team_abbr', 'season', 'home_team_win_rate']],\n",
    "    on=['home_team_abbr', 'away_team_abbr', 'season'],\n",
    "    how='left'\n",
    ")\n",
    "print(data['home_team_win_rate'])"
   ]
  },
  {
   "cell_type": "code",
   "execution_count": null,
   "metadata": {},
   "outputs": [],
   "source": [
    "data.sample(frac=1, random_state=42).reset_index(drop=True)"
   ]
  }
 ],
 "metadata": {
  "kernelspec": {
   "display_name": "Python 3",
   "language": "python",
   "name": "python3"
  },
  "language_info": {
   "codemirror_mode": {
    "name": "ipython",
    "version": 3
   },
   "file_extension": ".py",
   "mimetype": "text/x-python",
   "name": "python",
   "nbconvert_exporter": "python",
   "pygments_lexer": "ipython3",
   "version": "3.11.2"
  }
 },
 "nbformat": 4,
 "nbformat_minor": 2
}
