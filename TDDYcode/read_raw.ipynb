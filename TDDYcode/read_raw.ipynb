{
 "cells": [
  {
   "cell_type": "code",
   "execution_count": 5,
   "metadata": {},
   "outputs": [],
   "source": [
    "import csv\n",
    "import numpy as np\n",
    "from sklearn.model_selection import GridSearchCV\n",
    "from sklearn.svm import SVC\n",
    "from sklearn.model_selection import train_test_split\n",
    "from sklearn.preprocessing import StandardScaler\n",
    "\n",
    "all_data = []\n",
    "v_data = []\n",
    "val = []\n",
    "test = []\n",
    "\n",
    "with open('./c3_raw_data.csv', newline='') as csvfile:\n",
    "    rows = csv.reader(csvfile)\n",
    "    for r in rows:\n",
    "        all_data.append(r)\n",
    "\n",
    "with open('./c3_raw_vdata.csv', newline='') as csvfile:\n",
    "    rows = csv.reader(csvfile)\n",
    "    for r in rows:\n",
    "        v_data.append(r)\n",
    "\n",
    "with open('./c3_raw_val.csv', newline='') as csvfile:\n",
    "    rows = csv.reader(csvfile)\n",
    "    for r in rows:\n",
    "        val.append(r)\n",
    "\n",
    "with open('./c3_raw_test1.csv', newline='') as csvfile:\n",
    "    rows = csv.reader(csvfile)\n",
    "    for r in rows:\n",
    "        test.append(r)\n",
    "\n",
    "all_data = all_data[1:]\n",
    "v_data = v_data[1:]\n",
    "val = val[1:]\n",
    "test = test[1:]\n",
    "\n",
    "all_N = len(all_data)\n",
    "N = len(v_data)\n",
    "n = len(val)\n",
    "M = len(test)\n",
    "\n",
    "D = len(all_data[0]) - 1\n",
    "\n",
    "all_data_y = np.zeros((all_N,1))\n",
    "all_data_x = np.zeros((all_N,D))\n",
    "v_data_y = np.zeros((N,1))\n",
    "v_data_x = np.zeros((N,D))\n",
    "val_y = np.zeros((n,1))\n",
    "val_x = np.zeros((n,D))\n",
    "test_x = np.zeros((M,D))\n",
    "\n",
    "for i in range(all_N):\n",
    "    all_data_y[i] = np.array(all_data[i][0])\n",
    "    all_data_x[i] = np.array(all_data[i][1:])\n",
    "for i in range(N):\n",
    "    v_data_y[i] = np.array(v_data[i][0])\n",
    "    v_data_x[i] = np.array(v_data[i][1:])\n",
    "for i in range(n):\n",
    "    val_y[i] = np.array(val[i][0])\n",
    "    val_x[i] = np.array(val[i][1:])\n",
    "for i in range(M):\n",
    "    test_x[i] = np.array(test[i])\n",
    "\n",
    "#Write Your Code"
   ]
  },
  {
   "cell_type": "code",
   "execution_count": null,
   "metadata": {},
   "outputs": [
    {
     "name": "stderr",
     "output_type": "stream",
     "text": [
      "/home/tddy/ML/.venv/lib/python3.10/site-packages/sklearn/utils/validation.py:1339: DataConversionWarning: A column-vector y was passed when a 1d array was expected. Please change the shape of y to (n_samples, ), for example using ravel().\n",
      "  y = column_or_1d(y, warn=True)\n",
      "/home/tddy/ML/.venv/lib/python3.10/site-packages/sklearn/utils/validation.py:1339: DataConversionWarning: A column-vector y was passed when a 1d array was expected. Please change the shape of y to (n_samples, ), for example using ravel().\n",
      "  y = column_or_1d(y, warn=True)\n",
      "/home/tddy/ML/.venv/lib/python3.10/site-packages/sklearn/utils/validation.py:1339: DataConversionWarning: A column-vector y was passed when a 1d array was expected. Please change the shape of y to (n_samples, ), for example using ravel().\n",
      "  y = column_or_1d(y, warn=True)\n",
      "/home/tddy/ML/.venv/lib/python3.10/site-packages/sklearn/utils/validation.py:1339: DataConversionWarning: A column-vector y was passed when a 1d array was expected. Please change the shape of y to (n_samples, ), for example using ravel().\n",
      "  y = column_or_1d(y, warn=True)\n",
      "/home/tddy/ML/.venv/lib/python3.10/site-packages/sklearn/utils/validation.py:1339: DataConversionWarning: A column-vector y was passed when a 1d array was expected. Please change the shape of y to (n_samples, ), for example using ravel().\n",
      "  y = column_or_1d(y, warn=True)\n",
      "/home/tddy/ML/.venv/lib/python3.10/site-packages/sklearn/utils/validation.py:1339: DataConversionWarning: A column-vector y was passed when a 1d array was expected. Please change the shape of y to (n_samples, ), for example using ravel().\n",
      "  y = column_or_1d(y, warn=True)\n"
     ]
    }
   ],
   "source": [
    "param_grid = {\n",
    "    'C': [0.1, 1, 10, 100],\n",
    "    'gamma': ['scale', 'auto', 0.1, 1],\n",
    "    'kernel': ['rbf', 'linear', 'poly']\n",
    "}\n",
    "\n",
    "grid_search = GridSearchCV(\n",
    "    SVC(), \n",
    "    param_grid, \n",
    "    cv=5,  # 5-fold cross-validation\n",
    "    scoring='accuracy'\n",
    ")\n",
    "grid_search.fit(all_data_x, all_data_y)"
   ]
  },
  {
   "cell_type": "code",
   "execution_count": null,
   "metadata": {},
   "outputs": [],
   "source": [
    "param_grid = {\n",
    "    'kernel': ['poly'],  # Focus on polynomial kernel\n",
    "    'degree': [2, 3, 4, 5],  # Different polynomial degrees\n",
    "    'C': [0.1, 1, 10, 100],  # Regularization parameter\n",
    "    'coef0': [0.0, 0.1, 1],  # Independent term in kernel function\n",
    "    'gamma': ['scale', 'auto', 0.1, 1]  # Kernel coefficient\n",
    "}\n"
   ]
  }
 ],
 "metadata": {
  "kernelspec": {
   "display_name": ".venv",
   "language": "python",
   "name": "python3"
  },
  "language_info": {
   "codemirror_mode": {
    "name": "ipython",
    "version": 3
   },
   "file_extension": ".py",
   "mimetype": "text/x-python",
   "name": "python",
   "nbconvert_exporter": "python",
   "pygments_lexer": "ipython3",
   "version": "3.10.12"
  }
 },
 "nbformat": 4,
 "nbformat_minor": 2
}
