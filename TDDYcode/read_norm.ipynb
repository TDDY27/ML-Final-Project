{
 "cells": [
  {
   "cell_type": "code",
   "execution_count": null,
   "metadata": {
    "vscode": {
     "languageId": "plaintext"
    }
   },
   "outputs": [],
   "source": [
    "import csv\n",
    "import numpy as np\n",
    "\n",
    "all_data = []\n",
    "v_data = []\n",
    "val = []\n",
    "test = []\n",
    "\n",
    "with open('./c3_norm_data.csv', newline='') as csvfile:\n",
    "    rows = csv.reader(csvfile)\n",
    "    for r in rows:\n",
    "        all_data.append(r)\n",
    "\n",
    "with open('./c3_norm_vdata.csv', newline='') as csvfile:\n",
    "    rows = csv.reader(csvfile)\n",
    "    for r in rows:\n",
    "        v_data.append(r)\n",
    "\n",
    "with open('./c3_norm_val.csv', newline='') as csvfile:\n",
    "    rows = csv.reader(csvfile)\n",
    "    for r in rows:\n",
    "        val.append(r)\n",
    "\n",
    "with open('./c3_norm_test1.csv', newline='') as csvfile:\n",
    "    rows = csv.reader(csvfile)\n",
    "    for r in rows:\n",
    "        test.append(r)\n",
    "\n",
    "all_data = all_data[1:]\n",
    "v_data = v_data[1:]\n",
    "val = val[1:]\n",
    "test = test[1:]\n",
    "\n",
    "all_N = len(all_data)\n",
    "N = len(v_data)\n",
    "n = len(val)\n",
    "M = len(test)\n",
    "\n",
    "D = len(all_data[0]) - 1\n",
    "\n",
    "all_data_y = np.zeros((all_N,1))\n",
    "all_data_x = np.zeros((all_N,D))\n",
    "v_data_y = np.zeros((N,1))\n",
    "v_data_x = np.zeros((N,D))\n",
    "val_y = np.zeros((n,1))\n",
    "val_x = np.zeros((n,D))\n",
    "test_x = np.zeros((M,D))\n",
    "\n",
    "for i in range(all_N):\n",
    "    all_data_y[i] = np.array(all_data[i][0])\n",
    "    all_data_x[i] = np.array(all_data[i][1:])\n",
    "for i in range(N):\n",
    "    v_data_y[i] = np.array(v_data[i][0])\n",
    "    v_data_x[i] = np.array(v_data[i][1:])\n",
    "for i in range(n):\n",
    "    val_y[i] = np.array(val[i][0])\n",
    "    val_x[i] = np.array(val[i][1:])\n",
    "for i in range(M):\n",
    "    test_x[i] = np.array(test[i])\n",
    "\n",
    "#Write Your Code"
   ]
  }
 ],
 "metadata": {
  "language_info": {
   "name": "python"
  }
 },
 "nbformat": 4,
 "nbformat_minor": 2
}
